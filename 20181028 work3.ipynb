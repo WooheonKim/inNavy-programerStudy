{
 "cells": [
  {
   "cell_type": "markdown",
   "metadata": {},
   "source": [
    "L=[1, 2, 3, 4, 5]일 때 다음 각 문장을 수행한 후의 결과를 보고 납득할 만한 이유를 설명하시오."
   ]
  },
  {
   "cell_type": "code",
   "execution_count": 52,
   "metadata": {},
   "outputs": [
    {
     "name": "stdout",
     "output_type": "stream",
     "text": [
      "[1, 100, 4, 5]\n"
     ]
    }
   ],
   "source": [
    "L = [1, 2, 3, 4, 5]\n",
    "L[1:3] = [100]\n",
    "print(L) # 서로 다른 크기에 대한 슬라이싱치환"
   ]
  },
  {
   "cell_type": "code",
   "execution_count": 2,
   "metadata": {},
   "outputs": [
    {
     "name": "stdout",
     "output_type": "stream",
     "text": [
      "[1, 100, 4, 5]\n"
     ]
    }
   ],
   "source": [
    "L = [1, 2, 3, 4, 5]\n",
    "L[1:3] = [(100)]\n",
    "print(L)\n",
    "# 튜플값을 인자로 지닌 리스트를 슬라이스치환한 것이다. 튜플 내 원소가 하나뿐이기 때문에 () 기호가 없다."
   ]
  },
  {
   "cell_type": "code",
   "execution_count": 7,
   "metadata": {},
   "outputs": [
    {
     "ename": "TypeError",
     "evalue": "can only assign an iterable",
     "output_type": "error",
     "traceback": [
      "\u001b[1;31m---------------------------------------------------------------------------\u001b[0m",
      "\u001b[1;31mTypeError\u001b[0m                                 Traceback (most recent call last)",
      "\u001b[1;32m<ipython-input-7-39b28e50c438>\u001b[0m in \u001b[0;36m<module>\u001b[1;34m()\u001b[0m\n\u001b[0;32m      1\u001b[0m \u001b[0mL\u001b[0m \u001b[1;33m=\u001b[0m \u001b[1;33m[\u001b[0m\u001b[1;36m1\u001b[0m\u001b[1;33m,\u001b[0m \u001b[1;36m2\u001b[0m\u001b[1;33m,\u001b[0m \u001b[1;36m3\u001b[0m\u001b[1;33m,\u001b[0m \u001b[1;36m4\u001b[0m\u001b[1;33m,\u001b[0m \u001b[1;36m5\u001b[0m\u001b[1;33m]\u001b[0m\u001b[1;33m\u001b[0m\u001b[0m\n\u001b[1;32m----> 2\u001b[1;33m \u001b[0mL\u001b[0m\u001b[1;33m[\u001b[0m\u001b[1;36m1\u001b[0m\u001b[1;33m:\u001b[0m\u001b[1;36m3\u001b[0m\u001b[1;33m]\u001b[0m \u001b[1;33m=\u001b[0m \u001b[1;36m100\u001b[0m\u001b[1;33m\u001b[0m\u001b[0m\n\u001b[0m\u001b[0;32m      3\u001b[0m \u001b[0mprint\u001b[0m\u001b[1;33m(\u001b[0m\u001b[0mL\u001b[0m\u001b[1;33m)\u001b[0m\u001b[1;33m\u001b[0m\u001b[0m\n\u001b[0;32m      4\u001b[0m \u001b[1;31m# 슬라이싱 치환은 리스트타입의 원소만 넣을 수 있다.\u001b[0m\u001b[1;33m\u001b[0m\u001b[1;33m\u001b[0m\u001b[0m\n",
      "\u001b[1;31mTypeError\u001b[0m: can only assign an iterable"
     ]
    }
   ],
   "source": [
    "L = [1, 2, 3, 4, 5]\n",
    "L[1:3] = 100\n",
    "print(L)\n",
    "# INT자료형은 iterable자료형이 아니다."
   ]
  },
  {
   "cell_type": "code",
   "execution_count": 3,
   "metadata": {},
   "outputs": [
    {
     "ename": "TypeError",
     "evalue": "can only assign an iterable",
     "output_type": "error",
     "traceback": [
      "\u001b[1;31m---------------------------------------------------------------------------\u001b[0m",
      "\u001b[1;31mTypeError\u001b[0m                                 Traceback (most recent call last)",
      "\u001b[1;32m<ipython-input-3-b9674c0f10cb>\u001b[0m in \u001b[0;36m<module>\u001b[1;34m()\u001b[0m\n\u001b[0;32m      1\u001b[0m \u001b[0mL\u001b[0m \u001b[1;33m=\u001b[0m \u001b[1;33m[\u001b[0m\u001b[1;36m1\u001b[0m\u001b[1;33m,\u001b[0m \u001b[1;36m2\u001b[0m\u001b[1;33m,\u001b[0m \u001b[1;36m3\u001b[0m\u001b[1;33m,\u001b[0m \u001b[1;36m4\u001b[0m\u001b[1;33m,\u001b[0m \u001b[1;36m5\u001b[0m\u001b[1;33m]\u001b[0m\u001b[1;33m\u001b[0m\u001b[0m\n\u001b[1;32m----> 2\u001b[1;33m \u001b[0mL\u001b[0m\u001b[1;33m[\u001b[0m\u001b[1;36m1\u001b[0m\u001b[1;33m:\u001b[0m\u001b[1;36m3\u001b[0m\u001b[1;33m]\u001b[0m \u001b[1;33m=\u001b[0m \u001b[1;33m(\u001b[0m\u001b[1;36m100\u001b[0m\u001b[1;33m)\u001b[0m\u001b[1;33m\u001b[0m\u001b[0m\n\u001b[0m\u001b[0;32m      3\u001b[0m \u001b[0mprint\u001b[0m\u001b[1;33m(\u001b[0m\u001b[0mL\u001b[0m\u001b[1;33m)\u001b[0m\u001b[1;33m\u001b[0m\u001b[0m\n\u001b[0;32m      4\u001b[0m \u001b[1;31m# 슬라이싱 치환은 리스트타입의 원소만 넣을 수 있다.\u001b[0m\u001b[1;33m\u001b[0m\u001b[1;33m\u001b[0m\u001b[0m\n",
      "\u001b[1;31mTypeError\u001b[0m: can only assign an iterable"
     ]
    }
   ],
   "source": [
    "L = [1, 2, 3, 4, 5]\n",
    "L[1:3] = (100)\n",
    "print(L)\n",
    "# INT자료형은 iterable자료형이 아니다. (100,) 은 튜플이나 (!00)은 int형이다."
   ]
  },
  {
   "cell_type": "code",
   "execution_count": 8,
   "metadata": {},
   "outputs": [
    {
     "name": "stdout",
     "output_type": "stream",
     "text": [
      "[1, 100, 101, 102, 4, 5]\n"
     ]
    }
   ],
   "source": [
    "L = [1, 2, 3, 4, 5]\n",
    "L[1:3] = (100, 101, 102)\n",
    "print(L)\n",
    "#튜플은 iterable하다."
   ]
  },
  {
   "cell_type": "code",
   "execution_count": 6,
   "metadata": {},
   "outputs": [
    {
     "name": "stdout",
     "output_type": "stream",
     "text": [
      "[1, 100, 101, 102, 4, 5]\n"
     ]
    }
   ],
   "source": [
    "L = [1, 2, 3, 4, 5]\n",
    "L[1:3] = [100, 101, 102]\n",
    "print(L)\n",
    "#리스트도 iterable하다."
   ]
  },
  {
   "cell_type": "code",
   "execution_count": 7,
   "metadata": {},
   "outputs": [
    {
     "name": "stdout",
     "output_type": "stream",
     "text": [
      "[1, (100, 101, 102), 4, 5]\n"
     ]
    }
   ],
   "source": [
    "L = [1, 2, 3, 4, 5]\n",
    "L[1:3] = [(100, 101, 102)]\n",
    "print(L)\n",
    "#iterable한 리스트 내의 원소인 튜플이 원소로 들어간다."
   ]
  },
  {
   "cell_type": "code",
   "execution_count": 8,
   "metadata": {},
   "outputs": [
    {
     "name": "stdout",
     "output_type": "stream",
     "text": [
      "[1, [100, 101, 102], 4, 5]\n"
     ]
    }
   ],
   "source": [
    "L = [1, 2, 3, 4, 5]\n",
    "L[1:3] = [[100, 101, 102]]\n",
    "print(L)\n",
    "#iterable한 리스트 내의 원소인 리스트가 원소로 들어간다."
   ]
  },
  {
   "cell_type": "markdown",
   "metadata": {},
   "source": [
    "문자열 S = 'Hello World and Python'에 대해 다음 요구사항에 대한 Python 코드를 제시하시오.\n",
    "1. 단어의 순서가 역순으로 되어진 문자열 ('Python and World Hello')을 만들고\n",
    "2. 의 결과 문자열에 대해 메소드 split과 join을 이용하여 공백을 모두 없엔 문자열 'PythonandWorldHello'을 만드시오."
   ]
  },
  {
   "cell_type": "code",
   "execution_count": 17,
   "metadata": {},
   "outputs": [
    {
     "name": "stdout",
     "output_type": "stream",
     "text": [
      "Python and World Hello\n"
     ]
    }
   ],
   "source": [
    "S = 'Hello World and Python'\n",
    "S1 = S.split(\" \") # 공백을 기준으로 분리하여 리스트생성\n",
    "reverse = (\" \").join(S1[::-1]) # 생성된 리스트를 역순으로 이어붙이기(공백을 기준으로)\n",
    "print(reverse)"
   ]
  },
  {
   "cell_type": "markdown",
   "metadata": {},
   "source": [
    "다음 코드를 보고 물음에 답하시오.:<br>\n",
    "    a = [1, 2, 3]<br>\n",
    "    b = a x 3<br>\n",
    "    c = [a] x 3<br>\n",
    "    print(b)<br>\n",
    "    print(c)\n",
    "1. 위 코드를 수행한 이후 다음 코드를 수행한 후 b와 c의 내용을 확인하시오.\n",
    "         a[0]=0\n",
    "2.  b와 c 객체의 차이는 무엇인가?"
   ]
  },
  {
   "cell_type": "code",
   "execution_count": 20,
   "metadata": {},
   "outputs": [
    {
     "name": "stdout",
     "output_type": "stream",
     "text": [
      "[1, 2, 3, 1, 2, 3, 1, 2, 3]\n",
      "[[1, 2, 3], [1, 2, 3], [1, 2, 3]]\n"
     ]
    }
   ],
   "source": [
    "a = [1, 2, 3]\n",
    "b = a * 3\n",
    "c = [a] * 3\n",
    "print(b) # 값을 반복하여 새로운 리스트 생성\n",
    "print(c) # 리스트를 반복하여 새로운 리스트 생성"
   ]
  },
  {
   "cell_type": "markdown",
   "metadata": {},
   "source": [
    "다음 문자열을 ':'을 기준으로 분리하여 리스트로 만들고 각 문자열의 좌우 공백을 제거하시오 (즉, 문자열 S에서 l을 만들어라)\n",
    "> s = '  first star   :   second star   :    third star  '<br>\n",
    "l = ['first star', 'second star', 'third star']\n",
    "\n",
    "1. for ~ in 문을 이용한 코드를 작성하시오.\n",
    "2. 리스트 내포(list comprehension)를 이용한 코드를 작성하시오."
   ]
  },
  {
   "cell_type": "code",
   "execution_count": 34,
   "metadata": {},
   "outputs": [
    {
     "name": "stdout",
     "output_type": "stream",
     "text": [
      "['first star', 'second star', 'third star']\n"
     ]
    }
   ],
   "source": [
    "s = ' first star : second star : third star ' \n",
    "l = s.split(\":\") # :를 기준으로 분리\n",
    "for i in range(len(l)):\n",
    "    if l[i].startswith or l[i].endswith: # 좌우에 공백이 있다면\n",
    "        l[i] = l[i].strip() # 공백이 없게 만든다.\n",
    "print(l)"
   ]
  },
  {
   "cell_type": "markdown",
   "metadata": {},
   "source": [
    "다음과 같이 0보다 큰 정수 리스트 변수 list를 인자로 받는 함수 addall(list)와 addallodd(list)를 for ~ in 리터널과 리스트 내포 방식으로 각각 제시하시오.\n",
    "1. addall(list) 함수 (리스트 내의 모든 정수를 더하는 함수로서 해답으로는 for ~ in 리터럴과 리스트 내포 방식으로 각각 제시하시오.)\n",
    "<br>>>> addall([1])\n",
    "<br>1\n",
    "<br>>>> addall([1, 2, 3, 4, 5, 6, 7, 8, 9])\n",
    "<br>45\n",
    "2) addallodd(list) 함수 (리스트내의 모든 홀수를 더하는 함수로서 해답으로는 for ~ in 리터럴과 리스트 내포 방식으로 각각 제시하시오.)\n",
    "<br>>>> addallodd([1])\n",
    "<br>1\n",
    "<br>>>> addallodd([1, 2, 3, 4, 5, 6, 7, 8, 9])\n",
    "<br>25\n",
    "<br>[참고 1]: 리스트 내포 방식으로 addall() 및 addallodd()함수를 만들 때엔 리스트 내포에 의해 생성된 리스트 결과에 대해 내장 함수를 사용하는 방식을 고려해보시오 (주의: 리스트 내포 방식의 addall() 및 addallodd() 함수의 몸체는 단 1줄로 작성되어야 한다.)\n",
    "<br>[참고 2]: sum() 등의 내장함수 사용 가능함"
   ]
  },
  {
   "cell_type": "code",
   "execution_count": 46,
   "metadata": {},
   "outputs": [
    {
     "name": "stdout",
     "output_type": "stream",
     "text": [
      "6\n",
      "4\n"
     ]
    }
   ],
   "source": [
    "def addall(list) :\n",
    "    sum = 0\n",
    "    for i in range(len(list)) :\n",
    "        sum = sum + list[i]\n",
    "    return sum\n",
    "def addallodd(list) :\n",
    "    sum = 0\n",
    "    for i in range(len(list[::2])) :\n",
    "        sum = sum + list[2*i]\n",
    "    return sum\n",
    "print(addall([1, 2, 3]))\n",
    "print(addallodd([1, 2, 3]))"
   ]
  },
  {
   "cell_type": "code",
   "execution_count": 48,
   "metadata": {},
   "outputs": [
    {
     "name": "stdout",
     "output_type": "stream",
     "text": [
      "6\n",
      "4\n"
     ]
    }
   ],
   "source": [
    "def addall(list) :\n",
    "    return sum(list)\n",
    "def addallodd(list) :\n",
    "    return sum(list[::2])\n",
    "print(addall([1, 2, 3]))\n",
    "print(addallodd([1, 2, 3]))"
   ]
  },
  {
   "cell_type": "markdown",
   "metadata": {},
   "source": [
    "다음 코드를 보고 물음에 답하시오.\n",
    "<br>L1 = [1, 2, 3]\n",
    "<br>L2 = [4, 5, 6]\n",
    "<br>d = {'low':L1, 'high':L2}\n",
    "<br>e = d\n",
    "<br>f = d.copy()\n",
    "<br>print(d)\n",
    "<br>print(e)\n",
    "<br>print(f)\n",
    "<br>print()\n",
    "<br>d['low'] = [10, 20, 30]\n",
    "<br>d['high'][1] = 500\n",
    "<br>print(d)\n",
    "<br>print(e)\n",
    "<br>print(f)\n",
    "1. 위 코드의 수행 결과 d와 e는 항상 같은 결과를 출력한다. 그 이유는 무엇인가?\n",
    "2. 위 코드의 수행 결과 마지막 f의 내용은 다음과 같다. 이 때 'high' 키의 값 내용 중 500이 출력된 이유와 'low' 키의 값 내용 중 [1, 2, 3]이 출력된 이유를 설명하시오 ([hint]: shallow copy 관점에서 설명하시오.)\n",
    "<br>{'high': [4, 500, 6], 'low': [1, 2, 3]}"
   ]
  },
  {
   "cell_type": "code",
   "execution_count": 51,
   "metadata": {},
   "outputs": [
    {
     "name": "stdout",
     "output_type": "stream",
     "text": [
      "{'low': [1, 2, 3], 'high': [4, 5, 6]}\n",
      "{'low': [1, 2, 3], 'high': [4, 5, 6]}\n",
      "{'low': [1, 2, 3], 'high': [4, 5, 6]}\n",
      "\n",
      "{'low': [10, 20, 30], 'high': [4, 500, 6]}\n",
      "{'low': [10, 20, 30], 'high': [4, 500, 6]}\n",
      "{'low': [1, 2, 3], 'high': [4, 500, 6]}\n"
     ]
    }
   ],
   "source": [
    "L1 = [1, 2, 3]\n",
    "L2 = [4, 5, 6]\n",
    "d = {'low':L1, 'high':L2} \n",
    "e = d # 얕은 복사, 메모리할당\n",
    "f = d.copy() # 얕은복사이나 영향을 받지 않음.\n",
    "print(d)\n",
    "print(e)\n",
    "print(f)\n",
    "print()\n",
    "d['low'] = [10, 20, 30]\n",
    "d['high'][1] = 500 \n",
    "print(d)\n",
    "print(e)\n",
    "print(f)\n",
    "# 1. d와 e는 같은 메모리를 공유하고 있기 때문이다.\n",
    "# 2. low는 값의 재할당이기때문에 영향을 받지 않는다 하지만 high는 내부의 원소를 바꾸는 것이기 때문에 변화가 있다."
   ]
  },
  {
   "cell_type": "markdown",
   "metadata": {},
   "source": [
    "사전 d = {'one':1, 'two':2, 'three':3, 'four':4, 'five':5}가 주어졌을 때 다음 요구사항에 맞는 코드를 제시하시오\n",
    "<br>[참고]: d.keys(), d.values()를 통해 리스트를 얻어낸 후 리스트가 지니고 있는 sort(cmp=None, key=None, reverse=False)함수를 활용하시오.\n",
    "<br>1) 키의 알파벳 오름차순 순서대로 튜플 (키, 값)을 차례대로 출력하시오.\n",
    "<br>2) 키의 알파벳 내림차순 순서대로 튜플 (키, 값)을 차례대로 출력하시오.\n",
    "<br>3) 값의 오름차순 순서대로 튜플 (키, 값)을 차례대로 출력하시오.\n",
    "<br>4) 값의 내림차순 순서대로 튜플 (키, 값)을 차례대로 출력하시오."
   ]
  },
  {
   "cell_type": "code",
   "execution_count": 108,
   "metadata": {},
   "outputs": [
    {
     "name": "stdout",
     "output_type": "stream",
     "text": [
      "#1\n",
      "five 5\n",
      "four 4\n",
      "one 1\n",
      "three 3\n",
      "two 2\n",
      "#2\n",
      "two 2\n",
      "three 3\n",
      "one 1\n",
      "four 4\n",
      "five 5\n",
      "#3\n",
      "one 1\n",
      "two 2\n",
      "three 3\n",
      "four 4\n",
      "five 5\n",
      "#4\n",
      "five 5\n",
      "four 4\n",
      "three 3\n",
      "two 2\n",
      "one 1\n"
     ]
    }
   ],
   "source": [
    "d = {'one':1, 'two':2, 'three':3, 'four':4, 'five':5}\n",
    "key = list(d.keys())\n",
    "value = list(d.values())\n",
    "tmp = key.copy()\n",
    "tmp.sort()\n",
    "print(\"#1\")\n",
    "for i in range(len(d)) : # 1\n",
    "    print(tmp[i], d[tmp[i]])\n",
    "tmp = tmp[::-1]\n",
    "print(\"#2\")\n",
    "for i in range(len(d)) : # 2\n",
    "    print(tmp[i], d[tmp[i]])\n",
    "tmp = value.copy()\n",
    "tmp.sort()\n",
    "print(\"#3\")\n",
    "for i in range(len(d)) : # 2\n",
    "    print(key[tmp[i]-1], tmp[i])\n",
    "tmp = tmp[::-1]\n",
    "print(\"#4\")\n",
    "for i in range(len(d)) : # 2\n",
    "    print(key[tmp[i]-1], tmp[i])"
   ]
  },
  {
   "cell_type": "markdown",
   "metadata": {},
   "source": [
    "[ACM-ICPC 문제 1673번]\n",
    "<br>치킨 쿠폰\n",
    "<br>https://www.acmicpc.net/problem/1673\n",
    "<br>강민이는 치킨 한 마리를 주문할 수 있는 치킨 쿠폰을 n장 가지고 있다. 이 치킨집에서는 치킨을 한 마리 주문할 때마다 도장을 하나씩 찍어 주<br>는데, 도장을 k개 모으면 치킨 쿠폰 한 장으로 교환할 수 있다.\n",
    "\n",
    "<br>강민이가 지금 갖고 있는 치킨 쿠폰으로 치킨을 최대 몇 마리나 먹을 수 있는지 구하여라. 단, 치킨을 주문하기 위해서는 반드시 치킨 쿠폰을 갖<br>고 있어야 한다."
   ]
  },
  {
   "cell_type": "code",
   "execution_count": 23,
   "metadata": {},
   "outputs": [
    {
     "name": "stdout",
     "output_type": "stream",
     "text": [
      "100 10\n",
      "111\n"
     ]
    }
   ],
   "source": [
    "def coupon(n, k) :\n",
    "    chicken = n\n",
    "    tmp = 0\n",
    "    while n >= k :\n",
    "        tmp = (tmp + (n % k)) % k\n",
    "        n = (n+tmp) // k\n",
    "        chicken = chicken + n\n",
    "    return chicken\n",
    "n, k = map(int, input().split(\" \"))\n",
    "chicken = coupon(n, k)\n",
    "print(chicken)"
   ]
  },
  {
   "cell_type": "markdown",
   "metadata": {},
   "source": [
    "[Incremental Project] 이전 Assignment 2의 마지막 문제는 웹 URL로 지정된 웹페이지를 문자열로 가져와 모든 HTML 태그를 제외한 순수 텍스트를 얻어내고 그 안에 존재하는 단어를 추출하고 단어들의 총 개수를 출력하는 프로그램을 작성하는 것이었다. 이번에는 그 마지막 숙제를 그대로 확장하여 웹 URL로 지정된 웹페이지 내 순수 텍스트 안에 존재하는 각 단어들에 대해 다음 요구사항 대로 출력하는 프로그램을 작성하시오.<br>\n",
    "\n",
    "<br>요구사항 1. CSS와 Javascript 내용도 모두 제거하시오 (이전 숙제에서 이미 제외하였다면 본 요구사항 무시)<br>\n",
    "\n",
    "<br>즉, 아래와 같은 코드는 <style> 및 <script>태그 뿐만 아니라 그 안의 내용 전체를 모두 제거<br>\n",
    "\n",
    "<br><style>\n",
    "<br>h1 {\n",
    "<br>  color: blue;\n",
    "<br>}\n",
    "<br></style>\n",
    "<br><script>\n",
    "<br>int a = 10;\n",
    "<br>...\n",
    "<br></script>\n",
    "<br>요구사항 2. 순수 텍스트 안에 존재하는 단어들에 대해 string 모듈을 활용하여 모든 punctuation (구두문자)를 완벽히 제거하시오.\n",
    "<br>예: ['world!', ':', '+hello+', '~python$$$', '=', 'world'] ---> ['world', 'hello', 'python', 'world']\n",
    "<br>모든 punctuation을 확인하는 방법은 아래와 같다.\n",
    "<br>import string\n",
    "<br>print(string.punctuation)\n",
    "<br>요구사항 3. 만약 punctuation (구두문자)를 제거한 이후 공백으로 판명되는 단어들은 해당 단어 리스트에서 제거하시오.\n",
    "<br>예: ['컴퓨터공학부!', '---?', '%지향~', '...'] ---> ['컴퓨터공학부', '', '지향', ''] ---> ['컴퓨터공학부', '지향']<br> \n",
    "\n",
    "<br>요구사항 3. 각 단어들의 출현빈도를 사전형태로 저장하여 출력하시오.\n",
    "<br>예: ['world', 'hello', 'python', 'world', '컴퓨터공학부', '지향'] ---> {'world': 2, 'hello': 1, 'python': 1, '컴퓨터공학부': 1, '지향': 1} \n",
    "\n",
    "<br>요구사항 4. 다음 5개의 사이트에 대한 단어 출현빈도 결과를 출력하시오.\n",
    "<br>http://cse.koreatech.ac.kr\n",
    "<br>https://www.koreatech.ac.kr\n",
    "<br>http://www.naver.com\n",
    "<br>http://www.daum.net\n",
    "<br>http://www.nytimes.com"
   ]
  },
  {
   "cell_type": "code",
   "execution_count": 24,
   "metadata": {},
   "outputs": [
    {
     "ename": "SyntaxError",
     "evalue": "invalid syntax (<ipython-input-24-a125615e2f16>, line 12)",
     "output_type": "error",
     "traceback": [
      "\u001b[1;36m  File \u001b[1;32m\"<ipython-input-24-a125615e2f16>\"\u001b[1;36m, line \u001b[1;32m12\u001b[0m\n\u001b[1;33m    elif source[i] == '>' and tag = True : tag = False\u001b[0m\n\u001b[1;37m                                  ^\u001b[0m\n\u001b[1;31mSyntaxError\u001b[0m\u001b[1;31m:\u001b[0m invalid syntax\n"
     ]
    }
   ],
   "source": [
    "import requests\n",
    "import string\n",
    "req = requests.get('http://cse.koreatech.ac.kr')\n",
    "source = req.text\n",
    "tag = False # html 태그가 열린 상태인지 여부\n",
    "styleTag = False\n",
    "textList = []\n",
    "string = ''\n",
    "for i in range(0, len(source)) :\n",
    "    \n",
    "    if source[i] == '<' : tag = True # 열렸다면 열린상태로 표시\n",
    "    elif source[i] == '>' and tag = True : tag = False\n",
    "    elif (string == 'script' or string == 'style') and tag == True : \n",
    "        styleTag = True\n",
    "        string = ''\n",
    "    elif (string == '/script' or string == '/style') and styleTag == True :\n",
    "    elif source[i] == ' ' or source[i] == '\\n' or source[i] == '' or source[i] == '\\t' or source[i] == '\\r' : # 닫혀있는 상태라면 공백문자인지 검사\n",
    "    elif string == '' : continue # 단어가 없다면 무시하고 진행\n",
    "    elif styleTag == False :\n",
    "        string = string + source[i] # 단어 글자단위로 걸러내기\n",
    "        for p in string.punctuation :\n",
    "            string[p] = string[p].replace(p, '')\n",
    "        if string = '' : continue\n",
    "        else : textList.append(string) # 걸러낸 단어가 있다면 추출\n",
    "textList.append(string)\n",
    "print(len(textList))\n",
    "print(textList)\n",
    "# print(source)"
   ]
  },
  {
   "cell_type": "markdown",
   "metadata": {},
   "source": [
    "ICPC문제를 해결하는 데에 논리적인 어려움을 겪었다.\n",
    "일반적으로 선언하기에는 시간초과의 문제를 겪었고, \n",
    "재귀함수로 선언하니 계속 특정상황에서 값이 틀려 제출을 하지 못해 아쉽다.\n",
    "전체적으로 너무 어려운 것 같다.. 조금 더 열심히 공부해서 다시 도전해야겠다."
   ]
  }
 ],
 "metadata": {
  "kernelspec": {
   "display_name": "Python 3",
   "language": "python",
   "name": "python3"
  },
  "language_info": {
   "codemirror_mode": {
    "name": "ipython",
    "version": 3
   },
   "file_extension": ".py",
   "mimetype": "text/x-python",
   "name": "python",
   "nbconvert_exporter": "python",
   "pygments_lexer": "ipython3",
   "version": "3.6.5"
  }
 },
 "nbformat": 4,
 "nbformat_minor": 2
}
