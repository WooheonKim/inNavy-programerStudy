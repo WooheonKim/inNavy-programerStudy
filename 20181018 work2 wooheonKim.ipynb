{
 "cells": [
  {
   "cell_type": "markdown",
   "metadata": {},
   "source": [
    "1) 다음 6 개의 Expression에 대해 Evaluation 결과 값을 출력하고, 해당 결과가 나온 이유에 대해 설명하시오\n",
    "\n",
    "and 연산은 앞에서부터 순차적으로 검사하며, 거짓인 값을 검사할 시 그 값이 반환된다.\n",
    "마지막까지 모두 검사를 마친 경우에는 마지막에 검사한 값이 반환된다.\n",
    "or 연산은 앞에서부터 순차적으로 검사하며, 참인 값을 검사할 시 그 값이 반환된다.\n",
    "마지막까지 모두 검사를 마친 경우에는 마지막에 검사한 값이 반환된다."
   ]
  },
  {
   "cell_type": "code",
   "execution_count": 2,
   "metadata": {},
   "outputs": [
    {
     "name": "stdout",
     "output_type": "stream",
     "text": [
      "4\n",
      "1\n",
      "2\n",
      "2\n",
      "1\n",
      "3\n",
      "0\n"
     ]
    }
   ],
   "source": [
    "print(1 and 2 and 3 and 4)\n",
    "# 1 -> 2 -> 3 -> 4\n",
    "print(1 or 2 or 3 or 4)\n",
    "# 1\n",
    "print(1 and 2 or 3 and 4)\n",
    "# 1 -> 2\n",
    "print((1 and 2) or (3 and 4))\n",
    "# (1 and 2) => 2\n",
    "print(1 or 2 and 3 or 4)\n",
    "# 1\n",
    "print((1 or 2) and (3 or 4))\n",
    "# (1 or 2) -> (3 or 4) = > 3\n",
    "print(0 and 1)\n",
    "# 0"
   ]
  },
  {
   "cell_type": "markdown",
   "metadata": {},
   "source": [
    "2) 경로에 해당하는 문자열 1개를 입력 받아 그 안에 디렉토리 경로명과 파일명을 분리하여 리스트로 반환하는 함수 div_path(s)를 작성하시오.\n",
    "\n",
    "인자로 전달하는 문자열은 경로만 들어간다고 가정한다.\n",
    "각 디렉토리와 파일을 구분하는 문자는 '/'로 가정한다.\n",
    "반환하는 리스트의 첫번째 원소는 디렉토리이고 두번째 원소는 파일명이다.\n",
    "다음과 같은 실행 및 출력 결과가 도출되어야 한다.\n",
    "div_path('/usr/local/bin/python')\n",
    "['/usr/local/bin', 'python']\n",
    "div_path('/home/chulsoo/test.txt')\n",
    "['/home/chulsoo', 'test.txt']\n",
    "[참고] 리스트(l) 내에 새로운 정수값 (예를 들어 10)을 넣는 방법은 l.append(10) 이다."
   ]
  },
  {
   "cell_type": "code",
   "execution_count": 3,
   "metadata": {},
   "outputs": [
    {
     "name": "stdout",
     "output_type": "stream",
     "text": [
      "['/usr/local/bin', 'python']\n"
     ]
    }
   ],
   "source": [
    "def div_path(s) :\n",
    "    divide = s.split('/') # /를 기준으로 분리하여 리스트에 삽입.\n",
    "    filename = divide[len(divide)-1] #리스트의 마지막 단어 : 파일이름을 저장\n",
    "    combine = ('/').join(divide[0:len(divide)-1]) # 파일이름을 제외한 나머지 단어를  join함수로 /를 삽입하여 합성.\n",
    "    ls = []\n",
    "    ls.append(combine)\n",
    "    ls.append(divide[len(divide)-1])\n",
    "    print(ls)\n",
    "div_path('/usr/local/bin/python')"
   ]
  },
  {
   "cell_type": "markdown",
   "metadata": {},
   "source": [
    "3) 두 개의 리스트를 인자로 받아서 그 두 개의 리스트에 대한 '합집합'을 반환하는 함수 list_union(lista, listb)를 작성하시오.\n",
    "\n",
    "인자로 전달하는 리스트 2 개에는 정수값만 들어간다고 가정하자.\n",
    "함수 내에서 새로운 리스트를 만들어 그 리스트 내에 인자로 받은 두 리스트의 모든 원소를 넣어 반환한다.\n",
    "반환하는 리스트에는 절대로 중복된 원소가 들어 있으면 안된다 (집합의 조건).\n",
    "반환하는 리스트는 정렬이 되어 있어야 한다.\n",
    "다음과 같은 실행 및 출력 결과가 도출되어야 한다.\n",
    "list_union([1, 2, 3], [1, 2, 4])\n",
    "[1, 2, 3, 4]\n",
    "list_union([-10, -5, 0, -1], [100, 9, 0, 9])\n",
    "[-10, -5, -1, 0, 9, 100]\n",
    "list_union([0, 1, 2], [0, 1, 2])\n",
    "[0, 1, 2]\n",
    "[참고] 리스트(l) 내에 새로운 정수값 (예를 들어 10)을 넣는 방법은 l.append(10) 이다.\n",
    "[참고] 임의의 정수값 (x)이 리스트 (l) 내에 존재하는지 판단하는 방법은 x in l 이다."
   ]
  },
  {
   "cell_type": "code",
   "execution_count": 4,
   "metadata": {},
   "outputs": [
    {
     "name": "stdout",
     "output_type": "stream",
     "text": [
      "[1, 2, 3, 4, 5]\n"
     ]
    }
   ],
   "source": [
    "def list_union(lista, listb) :\n",
    "    union = lista\n",
    "    for i in range(0, len(listb)) :\n",
    "        if listb[i] in union : continue # lista = union 안에 listb와 똑같은 원소는 넣지말고\n",
    "        else : union.append(listb[i]) # 다른 원소라면 넣는다.\n",
    "    print(union)\n",
    "lista = [1, 2, 3]\n",
    "listb = [3, 4, 5]\n",
    "list_union(lista, listb)"
   ]
  },
  {
   "cell_type": "markdown",
   "metadata": {},
   "source": [
    "1) [ACM-ICPC 문제 10809번]\n",
    "\n",
    "알파벳 찾기\n",
    "https://www.acmicpc.net/problem/10809\n",
    "![Solution](./10809ok.PNG)"
   ]
  },
  {
   "cell_type": "code",
   "execution_count": 25,
   "metadata": {},
   "outputs": [
    {
     "name": "stdout",
     "output_type": "stream",
     "text": [
      "apq\n",
      "0 -1 -1 -1 -1 -1 -1 -1 -1 -1 -1 -1 -1 -1 -1 1 2 -1 -1 -1 -1 -1 -1 -1 -1 -1 \n"
     ]
    }
   ],
   "source": [
    "s = input()\n",
    "result = ''\n",
    "alphabet = list(range(26)) # a~z의 위치를 저장할 리스트 선언\n",
    "for i in range(0, 26) :\n",
    "    alphabet[i] = -1 # 기본값 초기화\n",
    "for i in range(0, len(s)) : # 문자열 길이만큼 반복\n",
    "    if 0 <= ord(s[i])-97 <= 25 : # 문자열이 아스키코드 소문자라면\n",
    "        if alphabet[ord(s[i])-97] == -1 : # 아직 문자열이 출현하지 않았다면\n",
    "            alphabet[ord(s[i])-97] = i # 현재위치를 해당 문자열의 시작위치로 입력\n",
    "for i in range(0, len(alphabet)) :\n",
    "    result = result + str(alphabet[i]) + ' ' # 쉼표없이 개행하기 위해 문자열 선언\n",
    "print(result)"
   ]
  },
  {
   "cell_type": "markdown",
   "metadata": {},
   "source": [
    "2) [ACM-ICPC 문제 2675번]\n",
    "\n",
    "문자열 반복\n",
    "https://www.acmicpc.net/problem/2675\n",
    "![Solution](./2675ok.PNG)"
   ]
  },
  {
   "cell_type": "code",
   "execution_count": 7,
   "metadata": {},
   "outputs": [
    {
     "name": "stdout",
     "output_type": "stream",
     "text": [
      "1\n",
      "5 AP\n",
      "AAAAAPPPPP\n"
     ]
    }
   ],
   "source": [
    "# 인식할 문자열 선언\n",
    "alphanumeric = ['0', '1', '2', '3', '4', '5', '6', '7', '8', '9', 'A', 'B', 'C', 'D', 'E', 'F', 'G', 'H', 'I', 'J', 'K', 'L', 'M', 'N', 'O', 'P', 'Q', 'R', 'S', 'T', 'U', 'V', 'W', 'X', 'Y', 'Z', '$', '%', '*', '+', '-', '.', '/', ':']\n",
    "T = int(input())\n",
    "for i in range(T, 0, -1) : # T만큼 반복\n",
    "    P = ''\n",
    "    R, S= (input()).split() # R과 S 한 문장으로 받음.\n",
    "    for j in range(0, len(S)) : # 입력한 문자열 길이만큼 반복\n",
    "        if S[j] in alphanumeric : # 문자열이 인식가능한 문자열 요소라면\n",
    "            P = P + (S[j] * int(R)) # R회 반복하여 출력\n",
    "        else : break\n",
    "    print(P)\n"
   ]
  },
  {
   "cell_type": "markdown",
   "metadata": {},
   "source": [
    "### Incremental Project 문제\n",
    "1) 웹 URL로 지정된 웹페이지를 문자열로 가져와 1) 모든 HTML 태그를 제외한 순수 텍스트 문자열만을 걸러내고, 2) 그 순수 텍스트 문자열 안에 존재하는 단어가 총 몇개인지 출력하는 프로그램을 작성하시오.\n",
    "\n",
    "HTML 태그는 다음 조건을 가지는 것이다.\n",
    "\n",
    "###### < 로 시작하여 >로 끝난다.\n",
    "예를 들어, 아래와 같은 HTML 내용 내에 한 줄이 있다고 가정하자.\n",
    "###### <label for=\"keep_signed\">로그인 유지</label>\n",
    "위 소스에서 HTML 태그를 제외한 순수 텍스트 문자열은 아래와 같다.\n",
    "로그인 유지\n",
    "한편, 아래와 같은 HTML 한 줄이 있다고 가정하자.\n",
    "<link rel=\"stylesheet\" href=\"/common/css/xe.min.css?20150910092654\" />\n",
    "위 한 줄은 HTML 태그로만 구성된 것이며 걸러낼 수 있는 순수 텍스 문자열은 존재하지 않는다.\n",
    "단어를 나누는 기준은 오로지 공백문자 (whitespace)이다.\n",
    "\n",
    "즉, 위 순수 텍스트 문자열인 \"로그인 유지\"에서 분리한 단어는 \"로그인\"과 \"유지\"이다.\n",
    "중복을 고려하지 않고 무조건 모든 단어의 개수를 세어서 출력한다.\n",
    "본 숙제를 위하여 HTML 파싱과 관련된 모듈 (예. BeautifulSoup) 사용 금지\n",
    "다음은 URL로 지정된 웹페이지를 특정 문자열로 가져오는 코드이다.\n",
    "즉, 숙제 코드는 아래 코드로 부터 시작해야 한다.\n",
    "아래 코드 수행시 requests 모듈이 존재하지 않는 에러가 발생하면 command 창에서 다음 코드 입력하여 requests 모듈 설치후 아래 코드 수행\n",
    "> pip install requests"
   ]
  },
  {
   "cell_type": "code",
   "execution_count": 24,
   "metadata": {},
   "outputs": [
    {
     "name": "stdout",
     "output_type": "stream",
     "text": [
      "500\n",
      "['컴퓨터공학부', 'var', 'current_url', '=', '\"https://cse.koreatech.ac.kr/\";', 'var', 'request_uri', '=', '\"https://cse.koreatech.ac.kr/\";', 'var', 'current_mid', '=', '\"home_2015\";', 'var', 'waiting_message', '=', '\"서버에', '요청', '중입니다.', '잠시만', '기다려주세요.\";', 'var', 'ssl_actions', '=', 'new', 'Array();', 'var', 'default_url', '=', '\"https://cse.koreatech.ac.kr/\";', 'var', 'http_port', '=', '80;var', 'https_port', '=', '443;var', 'enforce_ssl', '=', 'true;', '//', 'Schoolfun', '-', 'Study', 'and', 'Fun', '-->', '로그인', '로그인', '아이디', '비밀번호', '로그인', '유지', '브라우저를', '닫더라도', '로그인이', '계속', '유지될', '수', '있습니다.', '로그인', '유지', '기능을', '사용할', '경우', '다음', '접속부터는', '로그인할', '필요가', '없습니다.', '단,', '게임방,', '학교', '등', '공공장소에서', '이용', '시', '개인정보가', '유출될', '수', '있으니', '꼭', '로그아웃을', '해주세요.', '회원가입', 'ID/PW', '찾기', 'IT', '교육의', '글로벌', '메카!한국기술교육대학교', '컴퓨터공학부', 'Close', '소개', '구성원소개', '학사안내', '입학', '학부', '대학원', '학부광장', '자료실', '대학원', '공학교육인증', '학부서비스', 'Registration', '컴퓨터공학부', 'School', 'of', 'Computer', 'Science', 'and', 'Engineering', 'IT', '융합소프트웨어', '인력양성사업', 'CK', '(Creative', 'Korea)-I', '교육역량강화사업', '온라인', '컨텐츠', 'Online', 'Contents', 'for', 'Education', 'Capability', 'Empowerment', 'IT', '교육의', '글로벌', '메카', '한국기술교육대학교', '컴퓨터공학부', '홈페이지에', '오신', '것을환영합니다!', 'IT', '융합소프트웨어', '인력양성사업', '글로벌', '수준의', 'IT전문인력', '양성', 'IT융합분야에', '대한', '국제적인', '경쟁력', '고취', '바로가기', '교육역량강화사업', '컨텐츠', '교육역량강화사업', '온라인', '컨텐츠를', '소개합니다.', '바로가기', '공지사항', '[특성화]', '5차년도', 'IT융합', '개도국', '기술지원', '봉사(해외)', '...', '2018-10-17', '13:57', '13:57', '[특성화]', '2018', '졸업작품', '산업체', '평가회', '결과', '공지(졸작...', '2018-10-16', '15:52', '15:52', '[특성화]', '5차년도', '지식재산권(특허)', '출원', '지원', '접수', '알림', '2018-10-16', '09:32', '09:32', '[특성화]', 'G-STAR', '2018', '전시회', '선발', '학생', '공고', '2018-10-08', '17:14', '17:14', '[특성화][신청마감]', 'G-STAR', '2018', '전시회', '학생', '모집', '공고', '2018-10-08', '15:24', '15:24', '자유게시판', '졸업작품전시회', '기간', '헤어/메이크업', '2018-10-07', '14:48', '14:48', '※모의토익비', '지원', '공지※', '2018-09-28', '09:37', '09:37', 'ACM-ICPC', '예선', '신청기간이', '얼마', '안', '남았습니다!', '2018-09-13', '11:36', '11:36', '문화행사', '취소', '공지', '2018-09-10', '19:17', '19:17', '&amp;lt;2018학년도', '2학기&amp;gt;', '사물함', '신청을', '받겠...', '2018-09-06', '13:06', '13:06', '취업게시판', '[국가보안기술연구소]', '정규직', '채용', '2018-10-04', '14:18', '14:18', '한글과컴퓨터그룹', '2018년', '하반기', '신입/경력', '공채', '~10.10', '2018-09-27', '13:13', '13:13', '[구인]천안', '충무병원', '전산실', '2018-09-18', '15:25', '15:25', '[정부교육]', 'K-Shield', '주니어', '교육생', '모집(정보보호)', '~9.5', '2018-09-03', '07:53', '07:53', '인천]', '에이스테크놀로지', '연구개발인력', '모집', '~', '2018.9.9...', '2018-08-29', '09:06', '09:06', 'Platum', '취미', '클래스', '‘하비풀’,', 'SBA로부터', '투자', '유치', '2018-10-18', '00:06', '00:06', '광주전남', '스타트업,', '‘런치팩’', '1억', '규모', '투자', '유치', '2018-10-17', '17:32', '17:32', '[현장]', '“AI', '그리고', '스마트시티”세계', '최대', '마켓플레이스...', '2018-10-17', '16:07', '16:07', '라인게임즈,', '1,250억', '원', '규모', '해외', '투자', '유치', '2018-10-17', '15:52', '15:52', '[10월', '17일', '스타트업', '비즈니스', '동향]', '올버스,', '데이블,', '...', '2018-10-17', '15:50', '15:50', '전자신문', '바인테크,', '비콘', '기반', '위치확인서비스', \"'위존'\", '인기', '2018-10-17', '18:00', '18:00', '[이슈분석]SK그룹', '\"안정', '속', '변화', '가속\"', '2018-10-17', '18:00', '18:00', '[오늘의', 'CEO]신주용', '오렌지스펙트럼', '대표', '“10만원...', '2018-10-17', '17:00', '17:00', '[4차', '산업혁명', 'IP', '경쟁력', '분석]IoT,', '활발한', '매입...', '2018-10-17', '17:00', '17:00', '단말기', '완전', '자급제', '갈등', '···판매점,', 'SK텔레콤', '영...', '2018-10-17', '17:00', '17:00', 'TechCrunch', 'How', 'to', 'download', 'your', 'data', 'from', 'Apple', '2018-10-18', '00:17', '00:17', 'These', 'are', 'the', 'most', 'successful', 'companies', 'to', 'eme...', '2018-10-18', '00:05', '00:05', 'Hulu', 'adds', 'a', 'dark', 'mode', 'on', 'the', 'web', '2018-10-18', '00:03', '00:03', 'The', 'new', 'normal', '2018-10-18', '00:01', '00:01', 'Apple', 'overhauls', 'its', 'privacy', 'pages,', 'and', 'now', 'let...', '2018-10-18', '00:00', '00:00', 'Back', 'to', 'Top', 'Leading', 'Together', 'for', 'Brighter', 'Future', '-->', 'Quick', 'Navigation', '한국기술교육대학교', '홈페이지', '한국기술교육대학교', 'WEBMAIL', '한국기술교육대학교', '온라인', '평생교육원', 'IT', '융합소프트웨어', '인력양성사업', '컴퓨터공학부', '교직원', '업무', '자료실', '컴퓨터공학부', '포트폴리오-->', 'Campus', 'Location', 'Contact', 'CSE', '충청남도', '천안시', '동남구', '병천면', '충절로', '1600한국기술교육대학교', '컴퓨터공학부', '학과사무실', 'TEL', '(041)', '560', '1460', '~', '1461', 'FAX', '(041)', '560', '1462', 'Facebook', 'Twitter', 'Google', 'Plus', 'Linkedin-->', '(31253)', '충청남도', '천안시', '동남구', '병천면', '충절로', '1600', '(가전리,', '한국기술교육대학교)', '컴퓨터공학부', 'Copyright', '©', '2015.', 'All', 'rights', 'reserved', '']\n"
     ]
    }
   ],
   "source": [
    "import requests\n",
    "req = requests.get('http://cse.koreatech.ac.kr')\n",
    "source = req.text\n",
    "startHTML = False # html 태그가 열린 상태인지 여부\n",
    "textList = []\n",
    "string = ''\n",
    "for i in range(0, len(source)) :\n",
    "    if startHTML == True : # html태그가 열렸다면\n",
    "        if source[i] != '>' : continue # html태그가 닫히기 전까지 무시하고 진행\n",
    "        else : startHTML = False # 닫혔다면 닫힌상태로 표시.\n",
    "    elif source[i] == '<' : startHTML = True # 열렸다면 열린상태로 표시\n",
    "    elif source[i] == ' ' or source[i] == '\\n' or source[i] == '' or source[i] == '\\t' or source[i] == '\\r' : # 닫혀있는 상태라면 공백문자인지 검사\n",
    "        if string == '' : continue # 단어가 없다면 무시하고 진행\n",
    "        else :\n",
    "            textList.append(string) # 걸러낸 단어가 있다면 추출\n",
    "            string = ''\n",
    "    else : string = string + source[i] # 단어 글자단위로 걸러내기\n",
    "textList.append(string)\n",
    "print(len(textList))\n",
    "print(textList)\n",
    "# print(source)"
   ]
  }
 ],
 "metadata": {
  "kernelspec": {
   "display_name": "Python 3",
   "language": "python",
   "name": "python3"
  },
  "language_info": {
   "codemirror_mode": {
    "name": "ipython",
    "version": 3
   },
   "file_extension": ".py",
   "mimetype": "text/x-python",
   "name": "python",
   "nbconvert_exporter": "python",
   "pygments_lexer": "ipython3",
   "version": "3.6.5"
  }
 },
 "nbformat": 4,
 "nbformat_minor": 2
}
