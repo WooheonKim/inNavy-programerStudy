{
 "cells": [
  {
   "cell_type": "markdown",
   "metadata": {},
   "source": [
    "### 1. a=\"Hello Python\" 문자열을 Slicing과 연결 연산자 (+)를  사용하여 \"Python Hello\"로 변경하시오. \n",
    "[주의] a 변수 자체에 \"Python Hello\" 문자열이 저장되어야 함"
   ]
  },
  {
   "cell_type": "code",
   "execution_count": 11,
   "metadata": {},
   "outputs": [
    {
     "name": "stdout",
     "output_type": "stream",
     "text": [
      "Python Hello\n"
     ]
    }
   ],
   "source": [
    "a = 'Hello Python'\n",
    "a = a[6:12] + a[5] + a[0:5] # silcing [start, end(excluded), step]. a[5] : 공백을 위함.\n",
    "print (a)"
   ]
  },
  {
   "cell_type": "markdown",
   "metadata": {},
   "source": [
    "### 2. b=\"Hello Python World\" 문자열을 Slicing과 연결 연산자 (+)를 사용하여 \"World Python Hello\"로 변경하시오.\n",
    "[주의] b 변수 자체에 \"World Python Hello\" 문자열이 저장되어야 함"
   ]
  },
  {
   "cell_type": "code",
   "execution_count": 13,
   "metadata": {},
   "outputs": [
    {
     "name": "stdout",
     "output_type": "stream",
     "text": [
      "World Python Hello\n"
     ]
    }
   ],
   "source": [
    "b = 'Hello Python World'\n",
    "b =  b[13:18] + b[5:13] + b[0:5] # silcing [start, end(excluded), step].\n",
    "print (b)"
   ]
  },
  {
   "cell_type": "markdown",
   "metadata": {},
   "source": [
    "### 3. c=\"Hello\"를 \"olleH\"로 변경하시오\n",
    "[주의] c 변수 자체에 \"olleH\" 문자열이 저장되어야 함"
   ]
  },
  {
   "cell_type": "code",
   "execution_count": 18,
   "metadata": {},
   "outputs": [
    {
     "name": "stdout",
     "output_type": "stream",
     "text": [
      "olleH\n"
     ]
    }
   ],
   "source": [
    "c = 'Hello'\n",
    "c = c[::-1] #시작점, 종료점 미지정, step만 -1로 지정하여 역순 출력.\n",
    "print (c)"
   ]
  },
  {
   "cell_type": "markdown",
   "metadata": {},
   "source": [
    "### 4. s=\"python\"에 대해 다음 문제를 풀어보시오.\n",
    " \n",
    ">1. s[0], s[0][0], s[0][0][0]은 각각 어떤 값이 나오는지 확인하고 그 이유를 나름대로 설명해 보시오.\n",
    ">2. s[-100], s[100]은 값이 나오는지 에러가 나오는지 확인하고 그 결과에 대한 이유를 나름대로 설명해 보시오.\n",
    ">3. s[-100, 100]은 값이 나오는지 에러가 나오는지 확인하고 그 결과에 대한 이유를 나름대로 설명해 보시오.\n",
    ">4. s[1:-1]의 결과를 확인하고 그 결과에 대한 이유를 정확하게 설명하시오.\n",
    ">5. s[3:-3]의 결과를 확인하고 그 결과에 대한 이유를 정확하게 설명하시오."
   ]
  },
  {
   "cell_type": "code",
   "execution_count": 81,
   "metadata": {},
   "outputs": [
    {
     "name": "stdout",
     "output_type": "stream",
     "text": [
      "p p p\n",
      "ytho\n",
      "\n"
     ]
    }
   ],
   "source": [
    "s = 'python'\n",
    "# 1\n",
    "print(s[0], s[0][0], s[0][0][0])\n",
    "'''\n",
    "s[0][0] 을 출력할 시 s[][] = {{'p'}, {'y'}, {'t'}, {'h'}, {'o'}, {'n'}} 인 배열에서 값을 찾는 것 처럼 수행하는 것 같다.\n",
    "s[0][1] 을 출력하려 할 시 값을 못찾아 오류가 일어나기 때문이다. (IndexError: string index out of range)\n",
    "s[0][0][0] 도 마찬가지로 3차원 배열에서 값을 찾아 넣는 방식일 것이다.\n",
    "'''\n",
    "# 2\n",
    "# print(s[-100]) << error (string index out of range)\n",
    "# print(s[100]) << error              // \n",
    "'''\n",
    "s[-6] ~ s[5]는 각각의 가리키는 변수가 있다. 하지만 그 범위를 넘어서게 되면\n",
    "주소값이 지정되어있지 않은 데이터를 불러오게 되어 오류가 날 것이다.\n",
    "'''\n",
    "# 3\n",
    "# print(s[-50, 100]) << error (string indices must be integers)\n",
    "'''\n",
    "s[index]를 값으로 입력, 출력 하기 위해서는 인덱스의 형식이 정수여야 한다.    \n",
    "'''\n",
    "# 4\n",
    "print(s[1:-1])\n",
    "'''\n",
    "출력되는 값은 'ytho'이다. \n",
    "slicing의 형식은 시작점(included), 종료점(excluded), 간격이다.\n",
    "s[1]인 'y'부터 시작하여 s[-1]='n' 의 직전인 'o' 까지 차례대로 출력된다. \n",
    "\n",
    "'''\n",
    "# 5\n",
    "print(s[3:-3])\n",
    "'''\n",
    "출력되는 것은 공백이다. s[3] = 'o' 가 시작점이나 s[-3] = 'o' 가 종료점이므로 출력되는 문자가 없다.\n",
    "'''"
   ]
  },
  {
   "cell_type": "markdown",
   "metadata": {},
   "source": [
    "### 5. for문을 활용하여 1부터 100사이의 홀수를 출력하시오."
   ]
  },
  {
   "cell_type": "code",
   "execution_count": 24,
   "metadata": {},
   "outputs": [
    {
     "name": "stdout",
     "output_type": "stream",
     "text": [
      "1, 3, 5, 7, 9, 11, 13, 15, 17, 19, 21, 23, 25, 27, 29, 31, 33, 35, 37, 39, 41, 43, 45, 47, 49, 51, 53, 55, 57, 59, 61, 63, 65, 67, 69, 71, 73, 75, 77, 79, 81, 83, 85, 87, 89, 91, 93, 95, 97, 99, "
     ]
    }
   ],
   "source": [
    "for i in range(1, 101, 2) : \n",
    "    print(i, end = ', ')\n",
    "#range(start, end(excluded), step)1"
   ]
  },
  {
   "cell_type": "markdown",
   "metadata": {},
   "source": [
    "### 6. while문을 활용하여 1부터 100사이의 짝수의 합을 계산하여 출력하시오."
   ]
  },
  {
   "cell_type": "code",
   "execution_count": 6,
   "metadata": {},
   "outputs": [
    {
     "name": "stdout",
     "output_type": "stream",
     "text": [
      "2550\n"
     ]
    }
   ],
   "source": [
    "i = 1;\n",
    "sum = 0;\n",
    "while i <= 100 :\n",
    "    if (i % 2 == 0) :\n",
    "        sum = sum + i\n",
    "    i = i + 1\n",
    "print(sum)"
   ]
  },
  {
   "cell_type": "markdown",
   "metadata": {},
   "source": [
    "### 7. 사용자로 부터 임의의 정수를 입력받고, 해당 숫자를 역순으로 출력하는 프로그램을 작성하시오."
   ]
  },
  {
   "cell_type": "code",
   "execution_count": 15,
   "metadata": {},
   "outputs": [
    {
     "name": "stdout",
     "output_type": "stream",
     "text": [
      "정수를 입력하세요.1539\n",
      "숫자역순은 9351 입니다\n"
     ]
    }
   ],
   "source": [
    "number = input('정수를 입력하세요.')\n",
    "print('숫자역순은', number[::-1], '입니다')"
   ]
  },
  {
   "cell_type": "markdown",
   "metadata": {},
   "source": [
    "### 8. 사용자로 부터 정수를 입력받아서 1부터 그 사이에 존재하는 소수 (Prime number)를 출력하는 파이썬 프로그램을 작 성하시오."
   ]
  },
  {
   "cell_type": "code",
   "execution_count": 34,
   "metadata": {},
   "outputs": [
    {
     "name": "stdout",
     "output_type": "stream",
     "text": [
      "숫자를 입력하세요.1854\n",
      "2, 3, 5, 7, 11, 13, 17, 19, 23, 29, 31, 37, 41, 43, 47, 53, 59, 61, 67, 71, 73, 79, 83, 89, 97, 101, 103, 107, 109, 113, 127, 131, 137, 139, 149, 151, 157, 163, 167, 173, 179, 181, 191, 193, 197, 199, 211, 223, 227, 229, 233, 239, 241, 251, 257, 263, 269, 271, 277, 281, 283, 293, 307, 311, 313, 317, 331, 337, 347, 349, 353, 359, 367, 373, 379, 383, 389, 397, 401, 409, 419, 421, 431, 433, 439, 443, 449, 457, 461, 463, 467, 479, 487, 491, 499, 503, 509, 521, 523, 541, 547, 557, 563, 569, 571, 577, 587, 593, 599, 601, 607, 613, 617, 619, 631, 641, 643, 647, 653, 659, 661, 673, 677, 683, 691, 701, 709, 719, 727, 733, 739, 743, 751, 757, 761, 769, 773, 787, 797, 809, 811, 821, 823, 827, 829, 839, 853, 857, 859, 863, 877, 881, 883, 887, 907, 911, 919, 929, 937, 941, 947, 953, 967, 971, 977, 983, 991, 997, 1009, 1013, 1019, 1021, 1031, 1033, 1039, 1049, 1051, 1061, 1063, 1069, 1087, 1091, 1093, 1097, 1103, 1109, 1117, 1123, 1129, 1151, 1153, 1163, 1171, 1181, 1187, 1193, 1201, 1213, 1217, 1223, 1229, 1231, 1237, 1249, 1259, 1277, 1279, 1283, 1289, 1291, 1297, 1301, 1303, 1307, 1319, 1321, 1327, 1361, 1367, 1373, 1381, 1399, 1409, 1423, 1427, 1429, 1433, 1439, 1447, 1451, 1453, 1459, 1471, 1481, 1483, 1487, 1489, 1493, 1499, 1511, 1523, 1531, 1543, 1549, 1553, 1559, 1567, 1571, 1579, 1583, 1597, 1601, 1607, 1609, 1613, 1619, 1621, 1627, 1637, 1657, 1663, 1667, 1669, 1693, 1697, 1699, 1709, 1721, 1723, 1733, 1741, 1747, 1753, 1759, 1777, 1783, 1787, 1789, 1801, 1811, 1823, 1831, 1847, "
     ]
    }
   ],
   "source": [
    "check = True\n",
    "number = int(input('숫자를 입력하세요.'))\n",
    "for i in range(2, number+1) : # 1은 소수가 아니므로 2부터 검사, 입력받은 수 까지 검사받을 것임으로 number + 1\n",
    "    for j in range(2, i) : # 1~입력받은 수 범위 전체를 검사\n",
    "        if i % j == 0 :\n",
    "            check = False\n",
    "    if check == True : # 1과 자신을 제외한 어떤 수로 나눠도 나눠떨어지지 않으면 소수.\n",
    "        print(i, end = \", \")\n",
    "    check = True\n",
    "        "
   ]
  },
  {
   "cell_type": "markdown",
   "metadata": {},
   "source": [
    "### 9. [ACM-ICPC 문제 2441번]\n",
    "별찍기-4\n",
    "https://www.acmicpc.net/problem/2441"
   ]
  },
  {
   "cell_type": "markdown",
   "metadata": {},
   "source": [
    "![Solution](./2441sol.PNG)"
   ]
  },
  {
   "cell_type": "code",
   "execution_count": 40,
   "metadata": {},
   "outputs": [
    {
     "name": "stdout",
     "output_type": "stream",
     "text": [
      "숫자를 입력하세요.6\n",
      "******\n",
      " *****\n",
      "  ****\n",
      "   ***\n",
      "    **\n",
      "     *\n"
     ]
    }
   ],
   "source": [
    "n = int(input('숫자를 입력하세요.'))\n",
    "for i in range(n, 0, -1) :\n",
    "    for j in range(0, n) :\n",
    "        if n - i > j : # 행의 갯수 - 현재행의 별갯수 = 공백 갯수\n",
    "            print('', end = ' ') \n",
    "        else :\n",
    "            print('*', end = '')\n",
    "    print('')"
   ]
  },
  {
   "cell_type": "markdown",
   "metadata": {},
   "source": [
    "### 10. [ACM-ICPC 문제 11721번]\n",
    "열 개씩 끊어 출력하기\n",
    "https://www.acmicpc.net/problem/11721"
   ]
  },
  {
   "cell_type": "markdown",
   "metadata": {},
   "source": [
    "![Solution](./11721sol.PNG)"
   ]
  },
  {
   "cell_type": "code",
   "execution_count": 4,
   "metadata": {},
   "outputs": [
    {
     "name": "stdout",
     "output_type": "stream",
     "text": [
      "OneTwoThreeFourFiveSixSevenEightNineTen\n",
      "OneTwoThre\n",
      "eFourFiveS\n",
      "ixSevenEig\n",
      "htNineTen"
     ]
    }
   ],
   "source": [
    "string = input()\n",
    "for i in range(1, len(string)+1) :\n",
    "    print(string[i-1], end = '') # 한글자씩 출력\n",
    "    if i % 10 == 0 : # 열글자가 출력되면\n",
    "        print('') # 개행"
   ]
  },
  {
   "cell_type": "markdown",
   "metadata": {},
   "source": [
    "### 11. [ACM-ICPC 문제 2839번]\n",
    "설탕배달\n",
    "https://www.acmicpc.net/problem/2839"
   ]
  },
  {
   "cell_type": "markdown",
   "metadata": {},
   "source": [
    "![Solution](./2839sol.PNG)"
   ]
  },
  {
   "cell_type": "code",
   "execution_count": 1,
   "metadata": {},
   "outputs": [
    {
     "name": "stdout",
     "output_type": "stream",
     "text": [
      "1515\n",
      "303\n"
     ]
    }
   ],
   "source": [
    "\n",
    "sugar = int(input())\n",
    "bag = 0\n",
    "\n",
    "if sugar % 5 == 0 : # 5로 나눠떨어지는 지 먼저 검사.\n",
    "    bag += sugar / 5\n",
    "    print (int(bag))\n",
    "\n",
    "else :\n",
    "    while sugar - 5 >= 15 : # 3과 5의 최소공배수에 근접할 때 까지 5kg 주머니 사용.\n",
    "        sugar -= 5\n",
    "        bag += 1\n",
    "    while sugar - 3 >= 0 :  # 남은 설탕이 3kg보다 많으면\n",
    "        if sugar % 5 == 0 : # 5로 나눠떨어지는 지 체크\n",
    "            bag += (sugar / 5)\n",
    "            sugar = 0\n",
    "        else : # 5로 나눠떨어지지 않으면 3kg 봉투 하나 추가\n",
    "            sugar -= 3\n",
    "            bag += 1\n",
    "    if sugar != 0 : # 남은 설탕이 0kg 가 아니면 -1 출력.\n",
    "        print (-1)\n",
    "    else :\n",
    "        print(int(bag))\n",
    "    "
   ]
  }
 ],
 "metadata": {
  "kernelspec": {
   "display_name": "Python 3",
   "language": "python",
   "name": "python3"
  },
  "language_info": {
   "codemirror_mode": {
    "name": "ipython",
    "version": 3
   },
   "file_extension": ".py",
   "mimetype": "text/x-python",
   "name": "python",
   "nbconvert_exporter": "python",
   "pygments_lexer": "ipython3",
   "version": "3.6.5"
  }
 },
 "nbformat": 4,
 "nbformat_minor": 2
}
